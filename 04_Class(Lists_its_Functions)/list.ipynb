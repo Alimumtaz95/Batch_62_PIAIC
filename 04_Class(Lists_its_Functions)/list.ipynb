{
 "cells": [
  {
   "cell_type": "code",
   "execution_count": 2,
   "metadata": {},
   "outputs": [
    {
     "name": "stdout",
     "output_type": "stream",
     "text": [
      "Ali\n",
      "Hassan\n",
      "Raza\n",
      "Azhar\n"
     ]
    }
   ],
   "source": [
    "names=['Ali','Hassan','Raza','Azhar']\n",
    "for name in names:\n",
    "    print(name)"
   ]
  },
  {
   "cell_type": "code",
   "execution_count": 4,
   "metadata": {},
   "outputs": [
    {
     "name": "stdout",
     "output_type": "stream",
     "text": [
      "Hello, Ali! How are you?\n",
      "Hello, Hassan! How are you?\n",
      "Hello, Raza! How are you?\n",
      "Hello, Azhar! How are you?\n"
     ]
    }
   ],
   "source": [
    "names=['Ali','Hassan','Raza','Azhar']\n",
    "for name in names:\n",
    "    print(\"Hello, \" + name + \"! How are you?\")"
   ]
  },
  {
   "cell_type": "code",
   "execution_count": 6,
   "metadata": {},
   "outputs": [
    {
     "name": "stdout",
     "output_type": "stream",
     "text": [
      "I would like to own a motorcycle.\n",
      "I would like to own a car.\n",
      "I would like to own a bicycle.\n"
     ]
    }
   ],
   "source": [
    "transportation= ['motorcycle','car','bicycle']\n",
    "for vehicle in transportation:\n",
    "    print(\"I would like to own a \" + vehicle + \".\")"
   ]
  },
  {
   "cell_type": "code",
   "execution_count": 9,
   "metadata": {},
   "outputs": [
    {
     "name": "stdout",
     "output_type": "stream",
     "text": [
      "Dear Tayyab,\n",
      "You are cordially invited to my dinner party.\n",
      "Sincerely,\n",
      "Mumtaz Ali, \n",
      "\n",
      "Dear Jhanzaib,\n",
      "You are cordially invited to my dinner party.\n",
      "Sincerely,\n",
      "Mumtaz Ali, \n",
      "\n",
      "Dear Zia Khan,\n",
      "You are cordially invited to my dinner party.\n",
      "Sincerely,\n",
      "Mumtaz Ali, \n",
      "\n",
      "Dear Amir,\n",
      "You are cordially invited to my dinner party.\n",
      "Sincerely,\n",
      "Mumtaz Ali, \n",
      "\n"
     ]
    }
   ],
   "source": [
    "Guests= ['Tayyab','Jhanzaib','Zia Khan','Amir']\n",
    "for guest in Guests:\n",
    "    print(\"Dear \" + guest + \",\\nYou are cordially invited to my dinner party.\\nSincerely,\\nMumtaz Ali, \\n\")"
   ]
  },
  {
   "cell_type": "code",
   "execution_count": 14,
   "metadata": {},
   "outputs": [
    {
     "name": "stdout",
     "output_type": "stream",
     "text": [
      "Dear Tayyab,\n",
      "You are cordially invited to my dinner party.\n",
      "Sincerely,\n",
      "Mumtaz Ali, \n",
      "\n",
      "Dear Liaqat,\n",
      "You are cordially invited to my dinner party.\n",
      "Sincerely,\n",
      "Mumtaz Ali, \n",
      "\n",
      "Dear Zia Khan,\n",
      "You are cordially invited to my dinner party.\n",
      "Sincerely,\n",
      "Mumtaz Ali, \n",
      "\n",
      "Dear Amir,\n",
      "You are cordially invited to my dinner party.\n",
      "Sincerely,\n",
      "Mumtaz Ali, \n",
      "\n"
     ]
    }
   ],
   "source": [
    "Guests= ['Tayyab','Jhanzaib','Zia Khan','Amir']\n",
    "Guests [1] = \"Liaqat\"\n",
    "for guest in Guests:\n",
    "    print(\"Dear \" + guest + \",\\nYou are cordially invited to my dinner party.\\nSincerely,\\nMumtaz Ali, \\n\")"
   ]
  },
  {
   "cell_type": "code",
   "execution_count": 19,
   "metadata": {},
   "outputs": [
    {
     "name": "stdout",
     "output_type": "stream",
     "text": [
      "Dear Najam,\n",
      "You are cordially invited to my dinner party.\n",
      "Sincerely,\n",
      "Mumtaz Ali, \n",
      "\n",
      "Dear Tayyab,\n",
      "You are cordially invited to my dinner party.\n",
      "Sincerely,\n",
      "Mumtaz Ali, \n",
      "\n",
      "Dear Haider,\n",
      "You are cordially invited to my dinner party.\n",
      "Sincerely,\n",
      "Mumtaz Ali, \n",
      "\n",
      "Dear Jhanzaib,\n",
      "You are cordially invited to my dinner party.\n",
      "Sincerely,\n",
      "Mumtaz Ali, \n",
      "\n",
      "Dear Zia Khan,\n",
      "You are cordially invited to my dinner party.\n",
      "Sincerely,\n",
      "Mumtaz Ali, \n",
      "\n",
      "Dear Amir,\n",
      "You are cordially invited to my dinner party.\n",
      "Sincerely,\n",
      "Mumtaz Ali, \n",
      "\n",
      "Dear Raza,\n",
      "You are cordially invited to my dinner party.\n",
      "Sincerely,\n",
      "Mumtaz Ali, \n",
      "\n"
     ]
    }
   ],
   "source": [
    "Guests= ['Tayyab','Jhanzaib','Zia Khan','Amir']\n",
    "Guests.insert(0, \"Najam\") #insert \"Najam\" at the beginning\n",
    "Guests.insert(2, \"Haider\") #insert \"Haider\" in the middle\n",
    "Guests.append('Raza') #append \"Raza\" at the end\n",
    "for guest in Guests:\n",
    "    print(\"Dear \" + guest + \",\\nYou are cordially invited to my dinner party.\\nSincerely,\\nMumtaz Ali, \\n\")"
   ]
  },
  {
   "cell_type": "code",
   "execution_count": 23,
   "metadata": {},
   "outputs": [
    {
     "name": "stdout",
     "output_type": "stream",
     "text": [
      "Dear, Amir\n",
      "Sorry I can't invite you to dinner. \n",
      "Sincerely, \n",
      "Mumtaz Ali\n",
      "\n",
      "Dear, Zia Khan\n",
      "Sorry I can't invite you to dinner. \n",
      "Sincerely, \n",
      "Mumtaz Ali\n",
      "\n",
      "Dear, Tayyab\n",
      "You are still invited to the dinner. \n",
      "Sincerely, \n",
      "Mumtaz Ali\n",
      "\n",
      "Dear, Jhanzaib\n",
      "You are still invited to the dinner. \n",
      "Sincerely, \n",
      "Mumtaz Ali\n",
      "\n",
      "[]\n"
     ]
    }
   ],
   "source": [
    "Guests= ['Tayyab','Jhanzaib','Zia Khan','Amir']\n",
    "while len(Guests) > 2:\n",
    "    popped_guest=Guests.pop()\n",
    "    print(\"Dear, \" + popped_guest + \"\\nSorry I can't invite you to dinner. \\nSincerely, \\nMumtaz Ali\\n\")\n",
    "\n",
    "for guest in Guests:\n",
    "    print(\"Dear, \" + guest + \"\\nYou are still invited to the dinner. \\nSincerely, \\nMumtaz Ali\\n\")\n",
    "\n",
    "del Guests[:] #Delete all elements from the list\n",
    "print(Guests)"
   ]
  },
  {
   "cell_type": "code",
   "execution_count": null,
   "metadata": {},
   "outputs": [],
   "source": []
  }
 ],
 "metadata": {
  "kernelspec": {
   "display_name": "Python 3",
   "language": "python",
   "name": "python3"
  },
  "language_info": {
   "codemirror_mode": {
    "name": "ipython",
    "version": 3
   },
   "file_extension": ".py",
   "mimetype": "text/x-python",
   "name": "python",
   "nbconvert_exporter": "python",
   "pygments_lexer": "ipython3",
   "version": "3.12.4"
  }
 },
 "nbformat": 4,
 "nbformat_minor": 2
}
